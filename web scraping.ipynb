{
 "cells": [
  {
   "cell_type": "markdown",
   "id": "e8f04e49",
   "metadata": {},
   "source": [
    "# Author : Babu Balasubramanian"
   ]
  },
  {
   "cell_type": "markdown",
   "id": "62d2aabd",
   "metadata": {},
   "source": [
    "###### Objective: Scraping requried data like Movie Name, Director Name and Public Vote from the provided url and save it in excel"
   ]
  },
  {
   "cell_type": "markdown",
   "id": "4430904e",
   "metadata": {},
   "source": [
    "###### URL = http://www.indianmovierating.in/All-Movies"
   ]
  },
  {
   "cell_type": "code",
   "execution_count": 2,
   "id": "7c96f523",
   "metadata": {},
   "outputs": [],
   "source": [
    "# importing libraries\n",
    "import requests\n",
    "from bs4 import BeautifulSoup\n",
    "import os\n",
    "import openpyxl\n",
    "\n",
    "#Creating styles in excel\n",
    "from openpyxl.styles import PatternFill, Font\n",
    "font = Font(name='Calibri',\n",
    "                size=11,\n",
    "                 bold=False,\n",
    "                 italic=False,\n",
    "                 vertAlign=None,\n",
    "                 underline='none',\n",
    "                 strike=False,\n",
    "                 color='FF000000')\n",
    "fill = PatternFill(fill_type=None,\n",
    "                 start_color='FFFFFFFF',\n",
    "                 end_color='FF000000')"
   ]
  },
  {
   "cell_type": "code",
   "execution_count": 3,
   "id": "6bdca05e",
   "metadata": {},
   "outputs": [
    {
     "name": "stdout",
     "output_type": "stream",
     "text": [
      "Sheet Generated\n"
     ]
    }
   ],
   "source": [
    "# Generating Excel file with sheet name and appending the coloumn headers\n",
    "\n",
    "excel = openpyxl.Workbook()\n",
    "sheet = excel.active\n",
    "sheet.title='Now Running'\n",
    "sheet.append(['Movie Name','Director','Public Vote'])\n",
    "sheet[\"A1\"].fill = PatternFill(\"solid\", start_color=\"5cb800\")\n",
    "sheet['A1'].font = Font(bold=True)\n",
    "sheet[\"B1\"].fill = PatternFill(\"solid\", start_color=\"5cb800\")\n",
    "sheet['B1'].font = Font(bold=True)\n",
    "sheet[\"C1\"].fill = PatternFill(\"solid\", start_color=\"5cb800\")\n",
    "sheet['C1'].font = Font(bold=True)\n",
    "\n",
    "\n",
    "#Parsing the URL from where we going to scrape the data\n",
    "\n",
    "source = requests.get('http://www.indianmovierating.in/All-Movies')\n",
    "source.raise_for_status()\n",
    "soup = BeautifulSoup(source.text,'html.parser')\n",
    "\n",
    "#Extracting the required data like Movie Name, Director & Public Vote from the webpage\n",
    "\n",
    "for record in soup.findAll(\"div\", {\"class\": \"nowRunning\"}):\n",
    "    for record2 in record.findAll(\"div\", {\"class\": \"col-md-4 col-sm-6 col-xs-6\"}):\n",
    "        for record3 in record2.findAll(\"h3\", {\"class\": \"movieName\"}):\n",
    "            mname=record3.get_text()\n",
    "            \n",
    "        for record3 in record2.findAll(\"h5\", {\"class\": \"totalVotes\"}):   \n",
    "            mvote=record3.get_text().replace(\"votes\", \"\")\n",
    "            \n",
    "            \n",
    "        for record3 in record2.findAll(\"p\", {\"class\": \"movieDetails\"}):   \n",
    "            mdir=record3.get_text().replace(\"Director :  \", \"\")\n",
    "            \n",
    "            sheet.append([mname, mdir, mvote])\n",
    "            \n",
    "#Appending the corresponding data in excel and saving it in local drive\n",
    "\n",
    "excel.save(r'C:\\Users\\dell\\Desktop\\Indian Movie Rating.xlsx')\n",
    "print('Sheet Generated')"
   ]
  },
  {
   "cell_type": "code",
   "execution_count": null,
   "id": "73249dc4",
   "metadata": {},
   "outputs": [],
   "source": []
  }
 ],
 "metadata": {
  "kernelspec": {
   "display_name": "Python 3 (ipykernel)",
   "language": "python",
   "name": "python3"
  },
  "language_info": {
   "codemirror_mode": {
    "name": "ipython",
    "version": 3
   },
   "file_extension": ".py",
   "mimetype": "text/x-python",
   "name": "python",
   "nbconvert_exporter": "python",
   "pygments_lexer": "ipython3",
   "version": "3.10.2"
  }
 },
 "nbformat": 4,
 "nbformat_minor": 5
}
